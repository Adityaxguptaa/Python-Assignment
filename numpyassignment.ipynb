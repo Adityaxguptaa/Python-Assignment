{
 "cells": [
  {
   "cell_type": "code",
   "execution_count": null,
   "metadata": {},
   "outputs": [],
   "source": [
    "#THEOROTICAL QUESTIONS START\n",
    "\n",
    "\"\"\" 1. Purpose and Advantages of NumPy in Scientific Computing and Data Analysis\n",
    "NumPy (Numerical Python) is essential for scientific computing as it provides support for large multi-dimensional arrays and matrices, alongside a collection of mathematical functions to operate on these arrays.\n",
    "Advantages:\n",
    "Efficiently handles large datasets with minimal memory usage.\n",
    "Performs fast numerical operations such as linear algebra, statistical operations, and Fourier transforms.\n",
    "Supports vectorization, allowing element-wise operations on arrays without explicit loops, enhancing both readability and performance.\n",
    "Serves as the backbone for other data science libraries such as Pandas, SciPy, and TensorFlow.\n",
    "Enhancing Python's Capabilities:\n",
    "\n",
    "Python lists are not ideal for mathematical operations on large datasets due to the lack of built-in vectorization and type safety. NumPy fills this gap by providing \n",
    "ndarray, which supports fast, memory-efficient operations and data type constraints.\"\"\""
   ]
  },
  {
   "cell_type": "code",
   "execution_count": null,
   "metadata": {},
   "outputs": [],
   "source": [
    "\"\"\"2. Comparing np.mean() and np.average()\n",
    "np.mean(): This function computes the arithmetic mean (average) of the elements in an array. It calculates the \n",
    "sum of all elements and divides by the number of elements.\n",
    "np.average(): Similar to np.mean() but with an additional feature—it supports weighted averages where each \n",
    "element in the array can be assigned a different weight.\n",
    "When to Use:\n",
    "\n",
    "Use np.mean() when you need a simple, unweighted average.\n",
    "Use np.average() when you want to apply weights to your elements, such as in scenarios where certain elements \n",
    "have more significance in the final result.\"\"\""
   ]
  },
  {
   "cell_type": "code",
   "execution_count": null,
   "metadata": {},
   "outputs": [],
   "source": [
    "\"\"\"3. Reversing a NumPy Array Along Different Axes\n",
    "1D Array: To reverse a 1D array, you can use slicing with [::-1], which flips the array.\n",
    "2D Array: For 2D arrays, you can reverse along different axes:\n",
    "Along Rows: Use slicing like array[::-1, :] to reverse the rows.\n",
    "Along Columns: Use array[:, ::-1] to reverse the columns.\n",
    "These operations allow you to manipulate the array’s orientation, which is useful in tasks such as image processing or matrix transformations.\n",
    "\n",
    "\"\"\""
   ]
  },
  {
   "cell_type": "code",
   "execution_count": null,
   "metadata": {},
   "outputs": [],
   "source": [
    "\"\"\"4. Determining the Data Type of Elements in a NumPy Array\n",
    "You can determine the data type of elements in a NumPy array by accessing the dtype attribute of the array.\n",
    "Importance of Data Types:\n",
    "In NumPy, arrays are stored in a fixed data type (such as int32, float64, etc.), which ensures efficient memory usage.\n",
    "Choosing the right data type impacts memory management and performance. For example, using int32 consumes less memory than\n",
    "int64, which is important when dealing with large datasets.\n",
    "Explicitly defining data types ensures that operations are fast and consistent.\n",
    "\"\"\""
   ]
  },
  {
   "cell_type": "code",
   "execution_count": null,
   "metadata": {},
   "outputs": [],
   "source": [
    "\"\"\"5. Defining ndarrays and Their Key Features\n",
    "ndarray is the fundamental array type in NumPy, representing a grid of values of the same type, indexed by a tuple of \n",
    "non-negative integers.\n",
    "Key Features:\n",
    "\n",
    "Fixed data type, ensuring all elements are of the same type.\n",
    "Supports multidimensional arrays and matrices.\n",
    "Performs vectorized operations (element-wise computations) without the need for loops.\n",
    "Efficiently manages memory, storing data in contiguous blocks.\n",
    "Differences from Python Lists:\n",
    "\n",
    "Arrays are more memory-efficient than Python lists due to the fixed data type.\n",
    "They support advanced mathematical operations directly, whereas Python lists require manual looping or library\n",
    "support for similar tasks.\n",
    "Arrays allow for slicing and broadcasting, which enables operations across entire arrays without needing to write\n",
    "explicit loops.\"\"\""
   ]
  },
  {
   "cell_type": "code",
   "execution_count": null,
   "metadata": {},
   "outputs": [],
   "source": [
    "\"\"\"6. Performance Benefits of NumPy Arrays over Python Lists for Large-Scale Numerical Operations\n",
    "Memory Efficiency: NumPy arrays use less memory than Python lists because they store data in a contiguous block of memory, \n",
    "while lists store references to objects.\n",
    "Faster Computations: Arrays are highly optimized for numerical operations and take advantage of vectorization, \n",
    "which eliminates the need for explicit loops in mathematical operations.\n",
    "Built-in Functions: NumPy provides optimized functions for linear algebra, statistics, and other computations, \n",
    "significantly reducing execution time.\n",
    "For large-scale operations, this leads to drastic performance improvements in both time and space complexity compared to \n",
    "standard Python lists.\n",
    "\"\"\""
   ]
  },
  {
   "cell_type": "code",
   "execution_count": null,
   "metadata": {},
   "outputs": [],
   "source": [
    "\"\"\"7. Comparing vstack() and hstack()\n",
    "vstack() (Vertical Stack): This function stacks arrays vertically (row-wise). It concatenates arrays along the first axis (axis 0).\n",
    "hstack() (Horizontal Stack): This function stacks arrays horizontally (column-wise). It concatenates arrays along the second axis (axis 1).\n",
    "Usage:\n",
    "\n",
    "Use vstack() when you want to combine arrays row-wise, typically useful for adding new data points as new rows.\n",
    "Use hstack() when you want to combine arrays column-wise, useful for adding new features to a dataset.\"\"\""
   ]
  },
  {
   "cell_type": "code",
   "execution_count": null,
   "metadata": {},
   "outputs": [],
   "source": [
    "\"\"\"8. fliplr() vs flipud()\n",
    "fliplr(): This function flips an array horizontally, i.e., it reverses the order of columns.\n",
    "flipud(): This function flips an array vertically, i.e., it reverses the order of rows.\n",
    "Effects on Array Dimensions:\n",
    "\n",
    "fliplr() is useful for transforming images or matrices where you need to reverse columns.\n",
    "flipud() is used when you want to reverse the rows, such as flipping an image upside down.\n",
    "Both methods maintain the shape of the array but modify the order of elements along specific dimensions.\n",
    "\n",
    "\"\"\""
   ]
  },
  {
   "cell_type": "code",
   "execution_count": null,
   "metadata": {},
   "outputs": [],
   "source": [
    "\"\"\"9. Functionality of array_split() and Handling Uneven Splits\n",
    "array_split(): This function divides an array into sub-arrays along a specified axis.\n",
    "Handling Uneven Splits: Unlike split(), which raises an error if the array cannot be split equally, \n",
    "array_split() allows for uneven splits, placing extra elements in the later sub-arrays.\n",
    "Use Case: array_split() is particularly useful when you need to partition datasets that do not have a \n",
    "length divisible by the number of desired splits.\n",
    "\n",
    "\"\"\""
   ]
  },
  {
   "cell_type": "code",
   "execution_count": null,
   "metadata": {},
   "outputs": [],
   "source": [
    "\"\"\"10. Vectorization and Broadcasting in NumPy\n",
    "Vectorization: This is the process of applying operations to entire arrays instead of individual elements. It eliminates\n",
    "the need for loops, resulting in more concise and faster code. For example, adding two arrays element-wise can be done in \n",
    "a single operation, like array1 + array2.\n",
    "Broadcasting: Broadcasting allows NumPy to perform operations on arrays of different shapes by \"stretching\" the \n",
    "array along the larger one. This removes the need to manually reshape arrays to match dimensions before performing\n",
    "element-wise operations.\n",
    "Efficiency:\n",
    "\n",
    "Vectorization and broadcasting significantly speed up numerical computations by leveraging underlying C/Fortran \n",
    "implementations, making operations faster than native Python loops.\n",
    "They also make the code cleaner and more readable by removing the need for explicit iteration.\"\"\"\n",
    "\n",
    "\n",
    "#THEOROTICAL QUESTIONS END "
   ]
  },
  {
   "cell_type": "code",
   "execution_count": 7,
   "metadata": {},
   "outputs": [
    {
     "name": "stdout",
     "output_type": "stream",
     "text": [
      "[[28 71 27]\n",
      " [81  2 46]\n",
      " [12  4 35]]\n",
      "[[28 81 12]\n",
      " [71  2  4]\n",
      " [27 46 35]]\n"
     ]
    }
   ],
   "source": [
    "#PRACTICAL QUESTIONS\n",
    "#1\n",
    "import numpy as np\n",
    "a=np.random.randint(0,100,size=(3,3))\n",
    "print(a)\n",
    "b=a.T #interchanging rows and columns using transpose\n",
    "print(b)\n"
   ]
  },
  {
   "cell_type": "code",
   "execution_count": 16,
   "metadata": {},
   "outputs": [
    {
     "name": "stdout",
     "output_type": "stream",
     "text": [
      "ARRAY BY RESHAPING INTO SIZE OF 2,5\n",
      "[[0.44480812 0.54207803 0.50682727 0.71594063 0.73108868]\n",
      " [0.83802732 0.14048398 0.06995614 0.90493571 0.29162234]]\n",
      "ARRAY AFTER RESHAPING TO 5,2\n",
      "[[0.44480812 0.54207803]\n",
      " [0.50682727 0.71594063]\n",
      " [0.73108868 0.83802732]\n",
      " [0.14048398 0.06995614]\n",
      " [0.90493571 0.29162234]]\n"
     ]
    }
   ],
   "source": [
    "# que2\n",
    "import numpy as np\n",
    "arr1=np.random.rand(10)\n",
    "arr1\n",
    "print(\"ARRAY BY RESHAPING INTO SIZE OF 2,5\")\n",
    "arr2=arr1.reshape(2,5)\n",
    "print(arr2)\n",
    "\n",
    "print(\"ARRAY AFTER RESHAPING TO 5,2\")\n",
    "arr3=arr2.reshape(5,2)\n",
    "print(arr3)"
   ]
  },
  {
   "cell_type": "code",
   "execution_count": 20,
   "metadata": {},
   "outputs": [
    {
     "name": "stdout",
     "output_type": "stream",
     "text": [
      "[[0.         0.         0.         0.         0.         0.        ]\n",
      " [0.         0.187462   0.91879515 0.3725224  0.10644528 0.        ]\n",
      " [0.         0.96066127 0.45687563 0.67388887 0.39399491 0.        ]\n",
      " [0.         0.56554922 0.79322921 0.756278   0.42637577 0.        ]\n",
      " [0.         0.0951421  0.49141064 0.04099975 0.49349499 0.        ]\n",
      " [0.         0.         0.         0.         0.         0.        ]]\n"
     ]
    }
   ],
   "source": [
    "# que3\n",
    "import numpy as np\n",
    "\n",
    "# Create a 4x4 array with random float values\n",
    "array_4x4 = np.random.rand(4, 4)\n",
    "\n",
    "# Add a border of zeros, resulting in a 6x6 array\n",
    "array_6x6 = np.pad(array_4x4, pad_width=1, mode='constant', constant_values=0)\n",
    "\n",
    "print(array_6x6)\n"
   ]
  },
  {
   "cell_type": "code",
   "execution_count": 23,
   "metadata": {},
   "outputs": [
    {
     "name": "stdout",
     "output_type": "stream",
     "text": [
      "[10 15 20 25 30 35 40 45 50 55 60]\n"
     ]
    }
   ],
   "source": [
    "# que4\n",
    "\n",
    "# Create an array of integers from 10 to 60 with a step of 5\n",
    "array = np.arange(10, 65, 5)\n",
    "\n",
    "print(array)\n"
   ]
  },
  {
   "cell_type": "code",
   "execution_count": 24,
   "metadata": {},
   "outputs": [
    {
     "data": {
      "text/plain": [
       "(array(['PYTHON', 'NUMPY', 'PANDAS'], dtype='<U6'),\n",
       " array(['python', 'numpy', 'pandas'], dtype='<U6'),\n",
       " array(['Python', 'Numpy', 'Pandas'], dtype='<U6'))"
      ]
     },
     "execution_count": 24,
     "metadata": {},
     "output_type": "execute_result"
    }
   ],
   "source": [
    "#que5\n",
    "\n",
    "# Create a NumPy array of strings\n",
    "arr = np.array(['python', 'numpy', 'pandas'])\n",
    "\n",
    "# Apply different case transformations\n",
    "upper_case = np.char.upper(arr)\n",
    "lower_case = np.char.lower(arr)\n",
    "title_case = np.char.title(arr)\n",
    "\n",
    "upper_case, lower_case, title_case\n"
   ]
  },
  {
   "cell_type": "code",
   "execution_count": 25,
   "metadata": {},
   "outputs": [
    {
     "data": {
      "text/plain": [
       "array(['h e l l o', 'w o r l d', 'n u m p y', 'p y t h o n'], dtype='<U11')"
      ]
     },
     "execution_count": 25,
     "metadata": {},
     "output_type": "execute_result"
    }
   ],
   "source": [
    "# que6\n",
    "# Create a NumPy array of words\n",
    "words_array = np.array(['hello', 'world', 'numpy', 'python'])\n",
    "\n",
    "# Insert a space between each character of every word\n",
    "spaced_words_array = np.char.join(' ', words_array)\n",
    "\n",
    "spaced_words_array\n"
   ]
  },
  {
   "cell_type": "code",
   "execution_count": 26,
   "metadata": {},
   "outputs": [
    {
     "name": "stdout",
     "output_type": "stream",
     "text": [
      "Addition:\n",
      " [[ 8 10 12]\n",
      " [14 16 18]]\n",
      "Subtraction:\n",
      " [[-6 -6 -6]\n",
      " [-6 -6 -6]]\n",
      "Multiplication:\n",
      " [[ 7 16 27]\n",
      " [40 55 72]]\n",
      "Division:\n",
      " [[0.14285714 0.25       0.33333333]\n",
      " [0.4        0.45454545 0.5       ]]\n"
     ]
    }
   ],
   "source": [
    "# que7\n",
    "import numpy as np\n",
    "\n",
    "# Create two 2D NumPy arrays\n",
    "array1 = np.array([[1, 2, 3], [4, 5, 6]])\n",
    "array2 = np.array([[7, 8, 9], [10, 11, 12]])\n",
    "\n",
    "# Perform element-wise operations\n",
    "addition = np.add(array1, array2)\n",
    "subtraction = np.subtract(array1, array2)\n",
    "multiplication = np.multiply(array1, array2)\n",
    "division = np.divide(array1, array2)\n",
    "\n",
    "print(\"Addition:\\n\", addition)\n",
    "print(\"Subtraction:\\n\", subtraction)\n",
    "print(\"Multiplication:\\n\", multiplication)\n",
    "print(\"Division:\\n\", division)\n"
   ]
  },
  {
   "cell_type": "code",
   "execution_count": 27,
   "metadata": {},
   "outputs": [
    {
     "name": "stdout",
     "output_type": "stream",
     "text": [
      "Identity Matrix:\n",
      " [[1. 0. 0. 0. 0.]\n",
      " [0. 1. 0. 0. 0.]\n",
      " [0. 0. 1. 0. 0.]\n",
      " [0. 0. 0. 1. 0.]\n",
      " [0. 0. 0. 0. 1.]]\n",
      "Diagonal Elements: [1. 1. 1. 1. 1.]\n"
     ]
    }
   ],
   "source": [
    "# que8\n",
    "\n",
    "# Create a 5x5 identity matrix\n",
    "identity_matrix = np.eye(5)\n",
    "\n",
    "# Extract the diagonal elements\n",
    "diagonal_elements = np.diag(identity_matrix)\n",
    "\n",
    "print(\"Identity Matrix:\\n\", identity_matrix)\n",
    "print(\"Diagonal Elements:\", diagonal_elements)\n"
   ]
  },
  {
   "cell_type": "code",
   "execution_count": 28,
   "metadata": {},
   "outputs": [
    {
     "name": "stdout",
     "output_type": "stream",
     "text": [
      "Random Integers:\n",
      " [159 932 150 240 502 385 388 931 575 991 187 617 385 803 897 964 461 476\n",
      " 216 544  58 471 459 917 878 738 225 948 494  54 389 598 647  53 343  17\n",
      " 832 522 161 673 741 511 687 822 967 562  37 736 248 297 466 332 324 594\n",
      " 399 495 662 343 601 497 700 547 984 362 529 201  33 828 519 482 615 436\n",
      " 766 505 178 471 323 709 415 540 443 714 842 580 792  34 576   1 738 290\n",
      " 472 404 533 406 256 834 474 481 409 452]\n",
      "Prime Numbers:\n",
      " [991, 617, 461, 389, 647, 53, 17, 673, 967, 37, 601, 547, 709, 443, 409]\n"
     ]
    }
   ],
   "source": [
    "# que9\n",
    "\n",
    "# Function to check if a number is prime\n",
    "def is_prime(n):\n",
    "    if n <= 1:\n",
    "        return False\n",
    "    for i in range(2, int(np.sqrt(n)) + 1):\n",
    "        if n % i == 0:\n",
    "            return False\n",
    "    return True\n",
    "\n",
    "# Generate a NumPy array of 100 random integers between 0 and 1000\n",
    "random_integers = np.random.randint(0, 1000, 100)\n",
    "\n",
    "# Find all prime numbers in the array\n",
    "prime_numbers = [num for num in random_integers if is_prime(num)]\n",
    "\n",
    "print(\"Random Integers:\\n\", random_integers)\n",
    "print(\"Prime Numbers:\\n\", prime_numbers)\n"
   ]
  },
  {
   "cell_type": "code",
   "execution_count": 33,
   "metadata": {},
   "outputs": [
    {
     "name": "stdout",
     "output_type": "stream",
     "text": [
      "Daily Temperatures:\n",
      " [22 27 18 17 27 30 29 16 15 17 22 20 34 19 15 25 26 28 34 29 20 25 22 24\n",
      " 19 29 32 34 21 28 33 33 31 22 33]\n",
      "Weekly Averages:\n",
      " [24.28571429 20.42857143 25.28571429 26.42857143 28.71428571]\n"
     ]
    }
   ],
   "source": [
    "import numpy as np\n",
    "\n",
    "# Create a NumPy array representing daily temperatures for a month (30 days)\n",
    "daily_temperatures = np.random.randint(15, 35, 35)  # Random temperatures between 15 and 35 degrees\n",
    "\n",
    "# Reshape the array to have 4 weeks (7 days each) and one extra week for the last 2 days\n",
    "weeks = daily_temperatures.reshape(5,7)\n",
    "\n",
    "# Calculate weekly averages\n",
    "weekly_averages = np.mean(weeks, axis=1)\n",
    "\n",
    "print(\"Daily Temperatures:\\n\", daily_temperatures)\n",
    "print(\"Weekly Averages:\\n\", weekly_averages)\n"
   ]
  },
  {
   "cell_type": "code",
   "execution_count": null,
   "metadata": {},
   "outputs": [],
   "source": []
  }
 ],
 "metadata": {
  "kernelspec": {
   "display_name": "Python 3",
   "language": "python",
   "name": "python3"
  },
  "language_info": {
   "codemirror_mode": {
    "name": "ipython",
    "version": 3
   },
   "file_extension": ".py",
   "mimetype": "text/x-python",
   "name": "python",
   "nbconvert_exporter": "python",
   "pygments_lexer": "ipython3",
   "version": "3.11.5"
  }
 },
 "nbformat": 4,
 "nbformat_minor": 2
}
