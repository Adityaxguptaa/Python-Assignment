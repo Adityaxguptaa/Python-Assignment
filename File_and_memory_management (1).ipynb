{
  "nbformat": 4,
  "nbformat_minor": 0,
  "metadata": {
    "colab": {
      "provenance": []
    },
    "kernelspec": {
      "name": "python3",
      "display_name": "Python 3"
    },
    "language_info": {
      "name": "python"
    }
  },
  "cells": [
    {
      "cell_type": "markdown",
      "source": [
        "# **Files,exception handling, logging and memory management questions**"
      ],
      "metadata": {
        "id": "Fwbiqe4tw20n"
      }
    },
    {
      "cell_type": "markdown",
      "source": [
        "Q1 **What is difference between complied and interpreted language?**\n",
        "\n",
        "In a **complied language** source code is transform to before execution.The transformation done by complier which produces an executable file that the computer can run directly.\n",
        "\n",
        "The source code is written in the programming language.\n",
        "The compiler translates the entire code into an executable file (machine code).\n",
        "The executable file can be run directly by the computer's operating system.\n",
        "\n",
        "In a **interpreted language** An interpreted language excutes the code line by line or statement by statement during runtime,without producing a seperate file.\n"
      ],
      "metadata": {
        "id": "u5t8xvkcxSMw"
      }
    },
    {
      "cell_type": "markdown",
      "source": [
        "Q2 **what is exception handling in python?**\n",
        "\n",
        "Exception handling in python is allows to handle the error or exception during the execution of program.Instad of crashing the program ,python provides a structure way to catch and handle these errors.\n"
      ],
      "metadata": {
        "id": "X8Qh8MqR5CZM"
      }
    },
    {
      "cell_type": "markdown",
      "source": [
        "Q3 **what is purpose of handling finally block in exception handling.**\n",
        "\n",
        "Finally block in python's exception handling is used to define code that must be executed reagardless of whether an exception was raised or not.Its purpose is to ensure that certain cleanup actions or final steps are always performed ,such as a releasing resources ,closing files or cleaning up memory."
      ],
      "metadata": {
        "id": "ERGVHj3U63sL"
      }
    },
    {
      "cell_type": "markdown",
      "source": [
        "Q4 **what is logging in python?**\n",
        "\n",
        "logging in python is a way to track and record event that occur during the execution of program.It helps developers monitor, debug and analyse the behavior of their application by capturing runtime information such as errors, warning ,status update or any custom messeges."
      ],
      "metadata": {
        "id": "4FxSHg_p-N0T"
      }
    },
    {
      "cell_type": "markdown",
      "source": [
        "Q5 **what is significance of __del__ method in python?**\n",
        "\n",
        "The __del__() method in Python, also known as a destructor method, is important because it allows you to define actions to take when an object is destroyed:"
      ],
      "metadata": {
        "id": "i8evo5eoFrXu"
      }
    },
    {
      "cell_type": "markdown",
      "source": [
        "Q6 **What is difference between import and from import in python?**\n",
        "\n",
        "It is used to import an entire module into your current namespace.\n",
        "\n",
        "from...import..\n",
        "\n",
        "This allows you to import specific functions, classes , variable from a module directly into your current namespace.\n",
        "\n"
      ],
      "metadata": {
        "id": "hAnhWsbtJmm0"
      }
    },
    {
      "cell_type": "markdown",
      "source": [
        "Q7 **How can you handle multiple exceptions in Python?**\n",
        "\n",
        "\n",
        "You can use multiple except blocks to handle different types of exceptions individually."
      ],
      "metadata": {
        "id": "-t4Ru60nNmI_"
      }
    },
    {
      "cell_type": "code",
      "source": [
        "try:\n",
        "    # Code that may raise an exception\n",
        "    num = 10 / 0\n",
        "except ZeroDivisionError:\n",
        "    print(\"Cannot divide by zero!\")\n",
        "except ValueError:\n",
        "    print(\"ValueError occurred!\")\n",
        "except TypeError:\n",
        "    print(\"TypeError occurred!\")"
      ],
      "metadata": {
        "id": "yqybk7GoZvjy"
      },
      "execution_count": null,
      "outputs": []
    },
    {
      "cell_type": "markdown",
      "source": [
        "You catch multiple exception in a single except block by specifying them in a single tuple."
      ],
      "metadata": {
        "id": "dHdjZiG0Z2k4"
      }
    },
    {
      "cell_type": "code",
      "source": [
        "try:\n",
        "    num = int(\"abc\")\n",
        "except (ZeroDivisionError, ValueError, TypeError) as e:\n",
        "    print(f\"An error occurred: {e}\")"
      ],
      "metadata": {
        "colab": {
          "base_uri": "https://localhost:8080/"
        },
        "id": "vYZIOeFQaR5X",
        "outputId": "8372a6d1-fe40-4287-b807-9403144564b7"
      },
      "execution_count": null,
      "outputs": [
        {
          "output_type": "stream",
          "name": "stdout",
          "text": [
            "An error occurred: invalid literal for int() with base 10: 'abc'\n"
          ]
        }
      ]
    },
    {
      "cell_type": "markdown",
      "source": [
        "Q8 **what is purpose of with statement when handling file in python?**\n",
        "\n",
        "\n",
        "When you open a file using the with statement, Python automatically closes the file when the block of code is finished executing. This eliminates the need to explicitly call file.close(), reducing the risk of leaving files open, which could lead to memory leaks or file locking issues."
      ],
      "metadata": {
        "id": "8RkdClsIatV-"
      }
    },
    {
      "cell_type": "markdown",
      "source": [
        "Q9 **what is the diffrence between multithreading and multiprocessing??**\n",
        "\n",
        "\n",
        "Multithreading allows multiple threads to execute concurrently within the same process. Threads are lightweight and share the same memory space.\n",
        "\n",
        "Multiprocessing involves running multiple processes in parallel, where each process runs in its own memory space. It leverages multiple CPU cores."
      ],
      "metadata": {
        "id": "EcTPAv9TfpMi"
      }
    },
    {
      "cell_type": "markdown",
      "source": [
        "Q10 **What is advantage of using logging in a program**?\n",
        "\n",
        "\n",
        "logging is a powerful tool that can help you to dedug code and track error.Logging provides detailed information about the flow of execution, making it easier to identify where and why issues occur. It helps trace the sequence of events that led to a problem, which is more efficient than manually sifting through print statements.Logging allows categorizing messages into different severity levels (e.g., DEBUG, INFO, WARNING, ERROR, CRITICAL). This enables you to filter log output based on the severity, so you can focus on the most important messages in different environments (development, staging, production).\n",
        "\n"
      ],
      "metadata": {
        "id": "1nk5rhlc5JGr"
      }
    },
    {
      "cell_type": "markdown",
      "source": [
        "Q11 **what is memory management in python**?\n",
        "\n",
        "Python has automatic memory management built-in, which means that developers don't need to manually allocate or free memory like in lower-level languages such as C or C++. Memory management in Python refers to the process by which the Python interpreter manages the allocation and deallocation of memory for objects during the execution of a program. Proper memory management ensures that Python applications run efficiently by minimizing memory usage and preventing memory leaks.\n",
        "\n"
      ],
      "metadata": {
        "id": "oOEzfLdEQY5N"
      }
    },
    {
      "cell_type": "markdown",
      "source": [
        "Q12 **what is role of try and except in exception handling?**\n",
        "\n",
        "\n",
        "exception handling, the try and catch (in Python, except) blocks play crucial roles in managing runtime errors or exceptions. They allow a program to handle errors gracefully instead of crashing, ensuring smooth execution even when unexpected events occur.\n",
        "\n",
        "**try**\n",
        "The try block is used to wrap the code that might raise an exception. The purpose of this block is to attempt to execute the code, and if any exception occurs during its execution, the flow is transferred to the corresponding except block (or another exception handler).\n",
        "\n",
        "\n",
        "**Except:**\n",
        "The except block follows the try block and specifies the code that should execute if an exception occurs in the try block. It catches and handles specific exceptions or all exceptions, allowing the program to recover or handle the error without abrupt termination.\n",
        "\n"
      ],
      "metadata": {
        "id": "QgOMmZ1kVQPQ"
      }
    },
    {
      "cell_type": "markdown",
      "source": [
        "Q13 **How does python garbage collection system work?**\n",
        "\n",
        "\n",
        "Python's garbage collection system is responsible for automatically managing memory by reclaiming memory that is no longer in use, preventing memory leaks and ensuring that objects that are no longer needed are cleaned up. The garbage collection system in Python primarily uses **reference counting** and a **cyclic garbage collector** to manage memory."
      ],
      "metadata": {
        "id": "jBGszA9gZQc2"
      }
    },
    {
      "cell_type": "markdown",
      "source": [
        "Q14 **what is purpose of else block in exception handling?**\n",
        "\n",
        "The else block in exception handling provides a way to define code that should be executed if no exception occurs in the try block. It is an optional part of Python's exception handling mechanism and allows for more structured and cleaner error handling."
      ],
      "metadata": {
        "id": "gzOSm6Dabq2d"
      }
    },
    {
      "cell_type": "markdown",
      "source": [
        "Q15 **what are the common logging level in python?**\n",
        "\n",
        "\n",
        "This helps in tracking events, debugging, and monitoring the execution of your program. The logging module supports different logging levels, which indicate the severity or importance of the log messages. These levels allow you to control which messages get logged based on their importance.\n",
        "\n",
        "**DEBUG**\n",
        "This is the lowest level of logging and is used for detailed information, typically useful for diagnosing problems and understanding the internal flow of the program.\n",
        "\n",
        "**INFO**\n",
        "This level is used for general information about the program's normal operation. It is useful for tracking the progress of the application and ensuring that things are running as expected.\n",
        "\n",
        "**WARNING**\n",
        "This level indicates that something unexpected has occurred, but it doesn't prevent the program from continuing. It suggests that something might be wrong or could go wrong, but it's not necessarily an error.\n",
        "\n",
        "**ERROR**\n",
        "\n",
        "This level is used to log errors that have caused the program to perform incorrectly or fail to perform a certain task. It indicates that something went wrong but the program can still continue executing.\n",
        "\n",
        "**CRITICAL**\n",
        "\n",
        " This is the highest level of logging. It indicates very severe situations that might cause the program to terminate or stop functioning. These are critical errors that need immediate attention."
      ],
      "metadata": {
        "id": "phr2fq12c_43"
      }
    },
    {
      "cell_type": "markdown",
      "source": [
        "Q16 **What is the diffrence between os.fork and multiprocessing in python?**\n",
        "\n",
        "\n",
        "In Python, both os.fork() and the multiprocessing module are used for creating processes, but they serve different purposes, work in different ways, and are suitable for different use cases.os.fork() is a low-level system call that creates a child process by duplicating the parent process.\n",
        "The multiprocessing module is a higher-level abstraction that allows you to create and manage multiple processes in a platform-independent way."
      ],
      "metadata": {
        "id": "mjynQSVZj6Ry"
      }
    },
    {
      "cell_type": "markdown",
      "source": [
        "Q17 **What is importance of closing a file in python?**\n",
        "\n",
        "\n",
        "Closing a file in Python is an essential practice for ensuring that resources are properly released after file operations are completed.\n",
        "When a file is opened, the operating system allocates resources (such as memory and file handles) to handle the file. If a file is not closed after being opened, these resources remain allocated, which can eventually lead to resource exhaustion, especially when working with multiple files.By calling the close() method, you ensure that all buffered data is flushed to the file, meaning that all changes are properly saved and written to disk.\n"
      ],
      "metadata": {
        "id": "Is9lK4V0wirt"
      }
    },
    {
      "cell_type": "markdown",
      "source": [
        "Q18 **What is difference between file.read() and file.readline() in python?**\n",
        "\n",
        "\n",
        "**file.read()**:Reads the entire content of the file as a single string.It reads the entire file from the current file pointer's position to the end of the file.\n",
        "If no argument is passed, it will read the entire file.\n",
        "You can also specify an optional argument that defines the number of bytes (or characters in a text file) to read from the current position.\n",
        "\n",
        "**file.readline()**\n",
        "Reads one line at a time from the file.The line includes the newline character (\\n), unless it is the last line of the file or the file doesn't have a newline character at the end.\n",
        "\n",
        "\n"
      ],
      "metadata": {
        "id": "E-ffuFrZzd0S"
      }
    },
    {
      "cell_type": "markdown",
      "source": [
        "Q19 **what is logging module in python used for?**\n",
        "\n",
        "\n",
        "The logging module in Python is used for tracking events that occur during the execution of a program. It provides a flexible framework for emitting log messages from Python programs, which can help developers monitor and troubleshoot applications.\n",
        "\n",
        "\n"
      ],
      "metadata": {
        "id": "4Whvnj5U8Qk2"
      }
    },
    {
      "cell_type": "markdown",
      "source": [
        "Q20 **What is os module in Python used for in file handling?**\n",
        "\n",
        "\n",
        "The os module in Python is used for interacting with the operating system, and it provides a variety of functions to work with files and directories. When it comes to file handling, the os module allows you to perform operations such as creating, deleting, renaming, and navigating files and directories. It also helps in retrieving information about files and directories.You can create a new directory with os.mkdir() or os.makedirs() (for creating intermediate directories as well).\n",
        "\n",
        "Path operation: s.path.join() helps to construct file paths in a platform-independent way (useful when working with different operating systems).\n",
        "**os.path.abspath()** returns the absolute path of a file.\n",
        "**os.path.exists()** to check if a specific file or directory exists.\n",
        "**os.path.isfile()** and **os.path.isdir()** to check whether a path is a file or directory, respectively.\n"
      ],
      "metadata": {
        "id": "ownfG6guA9Ar"
      }
    },
    {
      "cell_type": "markdown",
      "source": [
        "Q21 **what are the challanges with memory management in python?**\n",
        "\n",
        "\n",
        "1) Garbage collection and memory leaks due to circular references.\n",
        "\n",
        "2) Reference counting can fail in the presence of cyclic references.\n",
        "\n",
        "3) Memory fragmentation due to dynamic memory allocation.\n",
        "\n",
        "4) The Global Interpreter Lock (GIL) affects multi-threaded memory management.\n",
        "\n",
        "5) Object overhead for small objects or large collections.\n",
        "\n",
        "6) Mutable objects like lists consuming more memory than necessary.\n",
        "\n",
        "7) Large-scale applications struggling with Python's memory efficiency.\n",
        "\n",
        "8) Lack of fine control over memory management compared to lower-level languages.\n"
      ],
      "metadata": {
        "id": "5IA4GNW6Eycj"
      }
    },
    {
      "cell_type": "markdown",
      "source": [
        "Q22 **How do raise exception manually in python?**\n",
        "\n",
        "In Python, you can raise an exception manually using the raise keyword. This is typically done to signal that something unexpected has occurred or that a certain condition hasn't been met in the code, and you want to stop the normal flow of execution.\n",
        "\n",
        "syntax for raise keyword\n",
        "\n",
        "raise ExceptionType(\"ErrorMessage\")\n",
        "\n",
        "\n",
        "\n"
      ],
      "metadata": {
        "id": "CuZCltC9IpJn"
      }
    },
    {
      "cell_type": "markdown",
      "source": [
        "Q23 **Why is it important to use multithreading in certain applications?**\n",
        "\n",
        "\n",
        "multithreading is a powerful tool in application development because it enhances efficiency, performance, and user experience by enabling concurrent execution of tasks, better resource management, and scalability.\n",
        "\n",
        "\n",
        "\n"
      ],
      "metadata": {
        "id": "XNzA5dXfQk27"
      }
    },
    {
      "cell_type": "markdown",
      "source": [
        "# **Practical questions**"
      ],
      "metadata": {
        "id": "1Y4zTew6jUog"
      }
    },
    {
      "cell_type": "markdown",
      "source": [
        "Q1 **How can you open a file for writing in python and write a string to it?**\n"
      ],
      "metadata": {
        "id": "U_dzeY6ijbBF"
      }
    },
    {
      "cell_type": "code",
      "source": [
        "file = open(\"example.txt\",\"w\")\n",
        "file.write(\"Hello world\")\n",
        "file.close()"
      ],
      "metadata": {
        "id": "8WjdrphQjqn2"
      },
      "execution_count": null,
      "outputs": []
    },
    {
      "cell_type": "markdown",
      "source": [
        "Q2 **Write a python program to read the contents of a file and print each line.**"
      ],
      "metadata": {
        "id": "z_GB2MCYkiht"
      }
    },
    {
      "cell_type": "code",
      "source": [
        "file = open(\"example.txt\",\"r\")\n",
        "for line in file:\n",
        "  print(line)\n",
        "file.close()"
      ],
      "metadata": {
        "colab": {
          "base_uri": "https://localhost:8080/"
        },
        "id": "KOY56DTkk5pL",
        "outputId": "0740ab1a-0eb9-48c4-8240-bbc4b04743b3"
      },
      "execution_count": null,
      "outputs": [
        {
          "output_type": "stream",
          "name": "stdout",
          "text": [
            "Hello world\n"
          ]
        }
      ]
    },
    {
      "cell_type": "markdown",
      "source": [
        "Q3 **How would you handle a case where the file doesn't exist while trying to open it for reading?**\n",
        "\n"
      ],
      "metadata": {
        "id": "hBDimJfSmQGB"
      }
    },
    {
      "cell_type": "code",
      "source": [
        "try:\n",
        "  file = open(\"non_existent_file.txt\",\"r\")\n",
        "except FileNotFoundError:\n",
        "  print(\"file not found\")"
      ],
      "metadata": {
        "colab": {
          "base_uri": "https://localhost:8080/"
        },
        "id": "bV43C5iZmlIX",
        "outputId": "0ae983ac-0779-449c-daae-d42547ba1731"
      },
      "execution_count": null,
      "outputs": [
        {
          "output_type": "stream",
          "name": "stdout",
          "text": [
            "file not found\n"
          ]
        }
      ]
    },
    {
      "cell_type": "markdown",
      "source": [
        "Q4 **Write a python script that reads from one file and writes its content to another file.**"
      ],
      "metadata": {
        "id": "LsqomT3apYuC"
      }
    },
    {
      "cell_type": "code",
      "source": [
        "file1 = open(\"example.txt\",\"r\")\n",
        "file2 = open(\"example1.txt\",\"w\")\n",
        "for line in file1:\n",
        "  file2.write(line)\n",
        "file1.close()\n",
        "file2.close()"
      ],
      "metadata": {
        "id": "Ukmfl21XpwxH"
      },
      "execution_count": null,
      "outputs": []
    },
    {
      "cell_type": "markdown",
      "source": [
        "Q5 **How would you catch a divison by zero error in python?**\n"
      ],
      "metadata": {
        "id": "QdwsnG_7rEnF"
      }
    },
    {
      "cell_type": "code",
      "source": [
        "try:\n",
        "  result = 10/0\n",
        "except ZeroDivisionError:\n",
        "  print(\"cannot divide by zero\")"
      ],
      "metadata": {
        "colab": {
          "base_uri": "https://localhost:8080/"
        },
        "id": "nvHw8J0IrUX8",
        "outputId": "58989eca-b2b8-4511-b8e7-7a175be97e2b"
      },
      "execution_count": null,
      "outputs": [
        {
          "output_type": "stream",
          "name": "stdout",
          "text": [
            "cannot divide by zero\n"
          ]
        }
      ]
    },
    {
      "cell_type": "markdown",
      "source": [
        "Q6 **Write a python program that logs an error message to a log file when a divison by zero exception occurs.**"
      ],
      "metadata": {
        "id": "LRAFniXvsLt6"
      }
    },
    {
      "cell_type": "code",
      "source": [
        "import logging\n",
        "logging.basicConfig(filename = \"error.log\",Level = logging.ERROR)\n",
        "try:\n",
        "  result = 10/0\n",
        "except ZeroDivisionError:\n",
        "  logging.error(\"cannot found error\")"
      ],
      "metadata": {
        "colab": {
          "base_uri": "https://localhost:8080/"
        },
        "id": "ZyS4MuZqspPC",
        "outputId": "9f7b0b66-1e76-4c12-b078-e8c9f180ee12"
      },
      "execution_count": null,
      "outputs": [
        {
          "output_type": "stream",
          "name": "stderr",
          "text": [
            "ERROR:root:cannot found error\n"
          ]
        }
      ]
    },
    {
      "cell_type": "markdown",
      "source": [
        "Q7 **How do you log information at different level (INFO,ERROR,WARNING) in python using the logging module?**"
      ],
      "metadata": {
        "id": "lHdgMPLXuq09"
      }
    },
    {
      "cell_type": "code",
      "source": [
        "import logging\n",
        "logging.basicConfig(filename = \"info.log\",Level = logging.INFO)\n",
        "logging.info(\"This is an info message\")\n",
        "logging.warning(\"This is a warning message\")\n",
        "logging.error(\"This is a error message\")"
      ],
      "metadata": {
        "id": "WENn4-QXvNVD",
        "colab": {
          "base_uri": "https://localhost:8080/"
        },
        "outputId": "48719b4d-fa95-4703-afad-a61fa168ec9a"
      },
      "execution_count": null,
      "outputs": [
        {
          "output_type": "stream",
          "name": "stderr",
          "text": [
            "WARNING:root:This is a warning message\n",
            "ERROR:root:This is a error message\n"
          ]
        }
      ]
    },
    {
      "cell_type": "markdown",
      "source": [
        "Q8 **Write a program to handle file opening error using exception handling?**"
      ],
      "metadata": {
        "id": "vc5lywR1cip_"
      }
    },
    {
      "cell_type": "code",
      "source": [
        "try:\n",
        "  file = open(\"non_exist_file.txt\",\"r\")\n",
        "  file.close()\n",
        "except FileNotFoundError:\n",
        "  print(\"file not found\")\n"
      ],
      "metadata": {
        "colab": {
          "base_uri": "https://localhost:8080/"
        },
        "id": "nAnslp5qcw0m",
        "outputId": "d535833e-b165-4ac2-e463-af8e795e469e"
      },
      "execution_count": null,
      "outputs": [
        {
          "output_type": "stream",
          "name": "stdout",
          "text": [
            "file not found\n"
          ]
        }
      ]
    },
    {
      "cell_type": "markdown",
      "source": [
        "Q9 **How can you read file line by line and store its content in a list in python?**"
      ],
      "metadata": {
        "id": "_o4_YYIvdlJO"
      }
    },
    {
      "cell_type": "code",
      "source": [
        "file = open(\"example.txt\",\"r\")\n",
        "for line in file:\n",
        "  lis = []\n",
        "  lis.append(line.strip())\n",
        "file.close()\n",
        "print(lis)"
      ],
      "metadata": {
        "colab": {
          "base_uri": "https://localhost:8080/"
        },
        "id": "WqtNHHxed8e8",
        "outputId": "eae62dfa-17b1-4bd6-953b-1b8720054007"
      },
      "execution_count": null,
      "outputs": [
        {
          "output_type": "stream",
          "name": "stdout",
          "text": [
            "['Hello world']\n"
          ]
        }
      ]
    },
    {
      "cell_type": "markdown",
      "source": [
        "Q10 **How can append data to an existing file in python?**"
      ],
      "metadata": {
        "id": "r85wb2LTf_rk"
      }
    },
    {
      "cell_type": "code",
      "source": [
        "file = open(\"example.txt\",\"a\")\n",
        "file.write(\"This is a new line\")\n",
        "file.close()"
      ],
      "metadata": {
        "id": "b6ep8emCgUo7"
      },
      "execution_count": null,
      "outputs": []
    },
    {
      "cell_type": "markdown",
      "source": [
        "Q11 **Write a python program that uses try-except block to handle an error when attempting to access a dictionary key that doesn't exist.**\n",
        "\n"
      ],
      "metadata": {
        "id": "sNKHtsNYhbrI"
      }
    },
    {
      "cell_type": "code",
      "source": [
        "try:\n",
        "  lis = [1,2,3,4]\n",
        "  lis[5]\n",
        "except IndexError as e:\n",
        "  print(\"key not found\")"
      ],
      "metadata": {
        "colab": {
          "base_uri": "https://localhost:8080/"
        },
        "id": "tzqqE4dHjL0u",
        "outputId": "9f6989e7-badd-4bd3-848e-ef3d68952627"
      },
      "execution_count": null,
      "outputs": [
        {
          "output_type": "stream",
          "name": "stdout",
          "text": [
            "key not found\n"
          ]
        }
      ]
    },
    {
      "cell_type": "markdown",
      "source": [
        "Q12 **Write a program that demonstrates using multiple except blocks to handle different types of exceptions.**"
      ],
      "metadata": {
        "id": "-wJZvIWXkpQM"
      }
    },
    {
      "cell_type": "code",
      "source": [
        "try:\n",
        "  result = 10/0\n",
        "except ZeroDivisionError:\n",
        "  print(\"cannot divide by zero\")\n",
        "except ValueError:\n",
        "  print(\"valueerror\")"
      ],
      "metadata": {
        "colab": {
          "base_uri": "https://localhost:8080/"
        },
        "id": "XTF0aZLzlBMd",
        "outputId": "6a56d48d-4676-4bf8-b57f-3840c877fe8a"
      },
      "execution_count": null,
      "outputs": [
        {
          "output_type": "stream",
          "name": "stdout",
          "text": [
            "cannot divide by zero\n"
          ]
        }
      ]
    },
    {
      "cell_type": "markdown",
      "source": [
        "Q13 **How would you check if a file exists before attempting to read it python?**"
      ],
      "metadata": {
        "id": "D85WJqbqnCYM"
      }
    },
    {
      "cell_type": "code",
      "source": [
        "import os\n",
        "file_path = \"example.txt\"\n",
        "if os.path.exists(file_path):\n",
        "  with open(file_path,\"r\") as file:\n",
        "    content = file.read()\n",
        "    print(content)\n",
        "else:\n",
        "  print(\"file not found\")\n"
      ],
      "metadata": {
        "colab": {
          "base_uri": "https://localhost:8080/"
        },
        "id": "W_kA_oLrnRZu",
        "outputId": "8f935b44-5010-4334-c4aa-7c0567f42e01"
      },
      "execution_count": null,
      "outputs": [
        {
          "output_type": "stream",
          "name": "stdout",
          "text": [
            "Hello worldThis is a new line\n"
          ]
        }
      ]
    },
    {
      "cell_type": "markdown",
      "source": [
        "Q14 **Write a program that uses the logging module to log both informational and error message.**"
      ],
      "metadata": {
        "id": "2UyuXpcYvVJz"
      }
    },
    {
      "cell_type": "code",
      "source": [
        "import logging\n",
        "logging.basicConfig(filename = \"example.log\",Level = logging.INFO)\n",
        "logging.basicConfig(filename = \"example.log\" ,Level = logging.ERROR)\n",
        "logging.info(\"This is an info message\")\n",
        "logging.error(\"This is an error message\")"
      ],
      "metadata": {
        "colab": {
          "base_uri": "https://localhost:8080/"
        },
        "id": "iHX2ApGKvqMC",
        "outputId": "7621526c-3786-4be5-a3d1-ba4b75686e97"
      },
      "execution_count": null,
      "outputs": [
        {
          "output_type": "stream",
          "name": "stderr",
          "text": [
            "ERROR:root:This is an error message\n"
          ]
        }
      ]
    },
    {
      "cell_type": "markdown",
      "source": [
        "Q15 **write a python program that prints the content of a file and handles the case when file is empty.**"
      ],
      "metadata": {
        "id": "Ng0UV31m0fBm"
      }
    },
    {
      "cell_type": "code",
      "source": [
        "import os\n",
        "file_path = \"example.txt\"\n",
        "if os.path.exists(file_path):\n",
        "  with open(file_path,\"r\")as file:\n",
        "    content = file.read()\n",
        "    if content:\n",
        "      print(content)\n",
        "    else:\n",
        "      print(\"file is empty\")\n",
        "else:\n",
        "  print(\"file not found\")"
      ],
      "metadata": {
        "id": "HrhbZhCZ01Kg",
        "colab": {
          "base_uri": "https://localhost:8080/"
        },
        "outputId": "83298bb1-c06b-4722-8fd7-7edb7c6f4220"
      },
      "execution_count": null,
      "outputs": [
        {
          "output_type": "stream",
          "name": "stdout",
          "text": [
            "Hello world\n"
          ]
        }
      ]
    },
    {
      "cell_type": "markdown",
      "source": [
        "Q16 **Demonstrate how to use memory profiling to check the memory useage of a small program.**"
      ],
      "metadata": {
        "id": "ExZH4W6IVaUi"
      }
    },
    {
      "cell_type": "code",
      "source": [
        "from memory_profiler import profile\n",
        "@profile\n",
        "def compute_sum_of_squares():\n",
        "    numbers = list(range(1, 1000000))\n",
        "    squares = [x ** 2 for x in numbers]\n",
        "    total_sum = sum(squares)\n",
        "    return total_sum\n",
        "if __name__ == \"__main__\":\n",
        "  result = compute_sum_of_squares()\n",
        "  print(f\"Total sum of squares: {result}\")"
      ],
      "metadata": {
        "id": "x4VRLpZ3aBoL"
      },
      "execution_count": null,
      "outputs": []
    },
    {
      "cell_type": "markdown",
      "source": [
        "Q17 **Write a program to create and write a list of numbers to a file, one number per line.**"
      ],
      "metadata": {
        "id": "aY5TsXfFdzaU"
      }
    },
    {
      "cell_type": "code",
      "source": [
        "file = open(\"numbers.txt\",\"w\")\n",
        "numbers = [1,2,3,4,5,6,7,8]\n",
        "for number in numbers:\n",
        "  file.write(str(number)+'\\n')\n",
        "file.close()"
      ],
      "metadata": {
        "id": "iHTwDybyhpi-"
      },
      "execution_count": null,
      "outputs": []
    },
    {
      "cell_type": "markdown",
      "source": [
        "Q18 **Write a program that handles both IndexError and KeyError using a try- except block.**"
      ],
      "metadata": {
        "id": "fHR63glakgEx"
      }
    },
    {
      "cell_type": "code",
      "source": [
        "try:\n",
        "  lis = [1,2,3,4,5]\n",
        "  lis[5]\n",
        "  dic = {\"a\":1,\"b\":2}\n",
        "  dic[\"c\"]\n",
        "except IndexError:\n",
        "  print(\"indexerror\")\n",
        "except KeyError:\n",
        "    print(\"Keyerror\")\n"
      ],
      "metadata": {
        "id": "erjGP2makzmn",
        "colab": {
          "base_uri": "https://localhost:8080/"
        },
        "outputId": "3f1afe97-a62a-4f03-eb2c-175ff6849553"
      },
      "execution_count": null,
      "outputs": [
        {
          "output_type": "stream",
          "name": "stdout",
          "text": [
            "indexerror\n"
          ]
        }
      ]
    },
    {
      "cell_type": "markdown",
      "source": [
        "Q19 **write a python program that reads a file and prints the number of occurances of a specific word**"
      ],
      "metadata": {
        "id": "R9lnBzFFGIji"
      }
    },
    {
      "cell_type": "code",
      "source": [
        "file = open(\"example.txt\",\"r\")\n",
        "word = \"Hello world\"\n",
        "count = 0\n",
        "for line in file:\n",
        "  if word in line:\n",
        "    count = count+1\n",
        "    print(count)\n",
        "    break\n",
        "file.close()\n",
        "\n"
      ],
      "metadata": {
        "colab": {
          "base_uri": "https://localhost:8080/"
        },
        "id": "DoQv1PPCGxER",
        "outputId": "e60fde14-d009-4c58-f440-9143d2f75923"
      },
      "execution_count": null,
      "outputs": [
        {
          "output_type": "stream",
          "name": "stdout",
          "text": [
            "1\n"
          ]
        }
      ]
    },
    {
      "cell_type": "markdown",
      "source": [
        "Q20 **How can you check if a file is empty before attempting to read its content?**"
      ],
      "metadata": {
        "id": "gmqUIYvhvKo3"
      }
    },
    {
      "cell_type": "code",
      "source": [
        "file_path = \"example.txt\"\n",
        "with open (file_path,'r') as file:\n",
        "  content = file.read()\n",
        "  if not content:\n",
        "    print(\"file is empty\")\n",
        "  else:\n",
        "    print(content)\n"
      ],
      "metadata": {
        "colab": {
          "base_uri": "https://localhost:8080/"
        },
        "id": "mRDc8uIVvaK4",
        "outputId": "6a00d66c-ea38-431c-b125-107f9fbdf019"
      },
      "execution_count": null,
      "outputs": [
        {
          "output_type": "stream",
          "name": "stdout",
          "text": [
            "Hello world\n"
          ]
        }
      ]
    },
    {
      "cell_type": "markdown",
      "source": [
        "Q21 **Write a python program that writes a log file when an error occurs during file handling**."
      ],
      "metadata": {
        "id": "Ac29vDLux3Ra"
      }
    },
    {
      "cell_type": "code",
      "source": [
        "import logging\n",
        "logging.basicConfig(filename = \"error.log\",level = logging.ERROR)\n",
        "try:\n",
        "  file = open(\"non_exist_file.txt\",\"r\")\n",
        "  file.close()\n",
        "except:\n",
        "  logging.error(\"file not found error\")"
      ],
      "metadata": {
        "colab": {
          "base_uri": "https://localhost:8080/"
        },
        "id": "V2EEW_8myJep",
        "outputId": "6de27a8b-bec1-4279-ea9c-8e3a84944a9d"
      },
      "execution_count": null,
      "outputs": [
        {
          "output_type": "stream",
          "name": "stderr",
          "text": [
            "ERROR:root:file not found error\n"
          ]
        }
      ]
    }
  ]
}