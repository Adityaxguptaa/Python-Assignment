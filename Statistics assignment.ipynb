{
 "cells": [
  {
   "cell_type": "code",
   "execution_count": 9,
   "metadata": {},
   "outputs": [
    {
     "data": {
      "text/plain": [
       "' Question 1: Different Types of Data\\nData can be categorized as either qualitative or quantitative, and each category has its subtypes based on measurement scales.\\n\\nQualitative Data: Also known as categorical data, this describes qualities or characteristics.\\n\\nNominal Scale: Represents data that can be categorized without a specific order. For example, colors (red, blue, green) and gender (male, female, other) are nominal. The categories have no inherent ranking or order.\\nOrdinal Scale: Represents data with a meaningful order but without a consistent interval between points. Examples include rankings (e.g., 1st, 2nd, 3rd) and levels of satisfaction (e.g., satisfied, neutral, dissatisfied). The order is meaningful, but the exact difference between values is not.\\nQuantitative Data: This type of data is numerical and can be measured.\\n\\nInterval Scale: This scale has ordered data with meaningful intervals but no true zero. Temperature in Celsius or Fahrenheit is a good example since differences are consistent, but zero doesn’t mean \"no temperature.\"\\nRatio Scale: Represents ordered, equally spaced data with a true zero. Examples include height, weight, and age. Here, zero signifies an absence, and ratios are meaningful, so 20 years is twice as old as 10 years. '"
      ]
     },
     "execution_count": 9,
     "metadata": {},
     "output_type": "execute_result"
    }
   ],
   "source": [
    "\"\"\" Question 1: Different Types of Data\n",
    "Data can be categorized as either qualitative or quantitative, and each category has its subtypes based on measurement scales.\n",
    "\n",
    "Qualitative Data: Also known as categorical data, this describes qualities or characteristics.\n",
    "\n",
    "Nominal Scale: Represents data that can be categorized without a specific order. For example, colors (red, blue, green) and gender (male, female, other) are nominal. The categories have no inherent ranking or order.\n",
    "Ordinal Scale: Represents data with a meaningful order but without a consistent interval between points. Examples include rankings (e.g., 1st, 2nd, 3rd) and levels of satisfaction (e.g., satisfied, neutral, dissatisfied). The order is meaningful, but the exact difference between values is not.\n",
    "Quantitative Data: This type of data is numerical and can be measured.\n",
    "\n",
    "Interval Scale: This scale has ordered data with meaningful intervals but no true zero. Temperature in Celsius or Fahrenheit is a good example since differences are consistent, but zero doesn’t mean \"no temperature.\"\n",
    "Ratio Scale: Represents ordered, equally spaced data with a true zero. Examples include height, weight, and age. Here, zero signifies an absence, and ratios are meaningful, so 20 years is twice as old as 10 years. \"\"\"\n"
   ]
  },
  {
   "cell_type": "code",
   "execution_count": 10,
   "metadata": {},
   "outputs": [
    {
     "name": "stdout",
     "output_type": "stream",
     "text": [
      "Mean: 4.833333333333333, Median: 4.5, Mode: 2\n"
     ]
    }
   ],
   "source": [
    "\"\"\" Question 2: Measures of Central Tendency\n",
    "Measures of central tendency describe a typical value within a dataset and help summarize it with a single value.\n",
    "\n",
    "Mean: Also known as the average, it is calculated by summing all values and dividing by the number of values. The mean is best for symmetric distributions without outliers, as it is sensitive to extreme values. For example, the mean salary in a company might be useful when all salaries are relatively close.\n",
    "\n",
    "Median: The middle value in a sorted dataset, the median is less affected by outliers and skewed data. It’s especially helpful in skewed data sets or when there are outliers. For instance, in housing prices, where a few high prices might skew the mean, the median gives a better sense of the \"typical\" price.\n",
    "\n",
    "Mode: The most frequently occurring value in the data. Useful for categorical data or when looking for the most common item, such as the most common blood type in a population. \"\"\"\n",
    "import numpy as np\n",
    "data = [5, 2, 9, 4, 7, 2]\n",
    "mean = np.mean(data)\n",
    "median = np.median(data)\n",
    "mode = max(set(data), key=data.count)\n",
    "print(f\"Mean: {mean}, Median: {median}, Mode: {mode}\")\n"
   ]
  },
  {
   "cell_type": "code",
   "execution_count": 11,
   "metadata": {},
   "outputs": [
    {
     "name": "stdout",
     "output_type": "stream",
     "text": [
      "Variance: 6.472222222222222, Standard Deviation: 2.544056253745625\n"
     ]
    }
   ],
   "source": [
    "\"\"\"Question 3: Dispersion, Variance, and Standard Deviation\n",
    "Dispersion measures how spread out the values in a dataset are, providing insight into the variability of the data.\n",
    "\n",
    "Variance: Represents the average squared deviations from the mean. Squaring emphasizes larger deviations, making variance sensitive to outliers and a useful measure of overall variability. A high variance indicates that data points are spread out from the mean, while a low variance suggests data points are clustered near the mean.\n",
    "\n",
    "Standard Deviation: The square root of variance, it brings the measure back to the same units as the data, making it easier to interpret. Standard deviation indicates, on average, how much individual data points deviate from the mean. For example, if the average score in a test is 70 with a standard deviation of 5, most scores lie within 5 points of the mean.\"\"\"\n",
    "\n",
    "variance = np.var(data)\n",
    "std_dev = np.std(data)\n",
    "print(f\"Variance: {variance}, Standard Deviation: {std_dev}\")\n"
   ]
  },
  {
   "cell_type": "code",
   "execution_count": 12,
   "metadata": {},
   "outputs": [
    {
     "data": {
      "image/png": "[encoded data removed]",
      "text/plain": [
       "<Figure size 640x480 with 1 Axes>"
      ]
     },
     "metadata": {},
     "output_type": "display_data"
    }
   ],
   "source": [
    "\"\"\" Question 4: Box Plot\n",
    "A box plot (or whisker plot) visualizes the spread and skewness of data using five summary statistics: \n",
    "    minimum, first quartile (Q1), median, third quartile (Q3), and maximum. The box represents the \n",
    "    interquartile range (IQR) from Q1 to Q3, where 50% of the data lie. The line inside the box indicates the median. \n",
    "    \"Whiskers\" extend to the minimum and maximum values within 1.5*IQR. Data points beyond this range are outliers. \n",
    "    Box plots are helpful for identifying outliers and visualizing the symmetry of data.\"\"\"\n",
    "import matplotlib.pyplot as plt\n",
    "plt.boxplot(data)\n",
    "plt.title(\"Box Plot of Data\")\n",
    "plt.show()\n"
   ]
  },
  {
   "cell_type": "code",
   "execution_count": 13,
   "metadata": {},
   "outputs": [
    {
     "data": {
      "text/plain": [
       "\"Question 5: Random Sampling and Inferences\\nRandom Sampling involves selecting a representative subset from a larger population, where each individual has an \\nequal chance of being chosen. This method helps make inferences about the entire population by reducing biases and \\nensuring that the sample represents the population's diversity. \\nFor example, to understand the average height in a city, we can randomly sample residents rather than measuring\\neveryone, which would be time-consuming and costly. Random sampling helps generalize findings to the larger population\\nwhile minimizing errors.\""
      ]
     },
     "execution_count": 13,
     "metadata": {},
     "output_type": "execute_result"
    }
   ],
   "source": [
    "\"\"\"Question 5: Random Sampling and Inferences\n",
    "Random Sampling involves selecting a representative subset from a larger population, where each individual has an \n",
    "equal chance of being chosen. This method helps make inferences about the entire population by reducing biases and \n",
    "ensuring that the sample represents the population's diversity. \n",
    "For example, to understand the average height in a city, we can randomly sample residents rather than measuring\n",
    "everyone, which would be time-consuming and costly. Random sampling helps generalize findings to the larger population\n",
    "while minimizing errors.\"\"\"\n"
   ]
  },
  {
   "cell_type": "code",
   "execution_count": 14,
   "metadata": {},
   "outputs": [
    {
     "data": {
      "text/plain": [
       "'Question 6: Skewness\\nSkewness measures the asymmetry of data distribution.\\n\\nPositive Skew (Right Skew): The tail is longer on the right. Most data are on the left. This skew often occurs in income distribution, where most people have lower incomes, and only a few have high incomes.\\n\\nNegative Skew (Left Skew): The tail is longer on the left, with most data on the right. This could occur in scenarios like test scores where most people score high, and only a few score low.\\n\\nSkewness affects the central tendency. In a positively skewed distribution, the mean is often higher than the median, while in a negatively skewed distribution, the mean is lower than the median.'"
      ]
     },
     "execution_count": 14,
     "metadata": {},
     "output_type": "execute_result"
    }
   ],
   "source": [
    "\"\"\"Question 6: Skewness\n",
    "Skewness measures the asymmetry of data distribution.\n",
    "\n",
    "Positive Skew (Right Skew): The tail is longer on the right. Most data are on the left. This skew often occurs in income distribution, where most people have lower incomes, and only a few have high incomes.\n",
    "\n",
    "Negative Skew (Left Skew): The tail is longer on the left, with most data on the right. This could occur in scenarios like test scores where most people score high, and only a few score low.\n",
    "\n",
    "Skewness affects the central tendency. In a positively skewed distribution, the mean is often higher than the median, while in a negatively skewed distribution, the mean is lower than the median.\"\"\""
   ]
  },
  {
   "cell_type": "code",
   "execution_count": 15,
   "metadata": {},
   "outputs": [
    {
     "name": "stdout",
     "output_type": "stream",
     "text": [
      "IQR: 4.0\n"
     ]
    }
   ],
   "source": [
    "\"\"\"Question 7: Interquartile Range (IQR)\n",
    "IQR: Difference between Q3 and Q1.\n",
    "Outliers: Data points below Q1 - 1.5IQR or above Q3 + 1.5IQR.\"\"\"\n",
    "Q1, Q3 = np.percentile(data, [25, 75])\n",
    "IQR = Q3 - Q1\n",
    "print(f\"IQR: {IQR}\")\n",
    "\n"
   ]
  },
  {
   "cell_type": "code",
   "execution_count": 16,
   "metadata": {},
   "outputs": [
    {
     "name": "stdout",
     "output_type": "stream",
     "text": [
      "Probability of 5 successes: 0.24609375\n"
     ]
    }
   ],
   "source": [
    "\"\"\"Question 8: Binomial Distribution\n",
    "The Binomial Distribution is appropriate for scenarios with:\n",
    "\n",
    "A fixed number of independent trials.\n",
    "Each trial having only two possible outcomes (success or failure).\n",
    "A constant probability of success across trials.\n",
    "For example, if flipping a coin 10 times, we could calculate the probability of getting exactly 5 heads. The binomial distribution can \n",
    "calculate such probabilities, aiding decision-making in probabilistic scenarios.\n",
    "\n",
    "\"\"\"\n",
    "from scipy.stats import binom\n",
    "n, p, k = 10, 0.5, 5\n",
    "prob = binom.pmf(k, n, p)\n",
    "print(f\"Probability of 5 successes: {prob}\")\n"
   ]
  },
  {
   "cell_type": "code",
   "execution_count": 17,
   "metadata": {},
   "outputs": [
    {
     "data": {
      "text/plain": [
       "'Question 9: Normal Distribution and Empirical Rule\\nThe Normal Distribution is a continuous, symmetrical distribution around the mean, often visualized as a bell curve. Many natural phenomena, like heights and IQ scores, follow this distribution. The Empirical Rule states:\\n\\nApproximately 68% of data falls within 1 standard deviation (SD) of the mean.\\nAround 95% falls within 2 SDs.\\nNearly 99.7% falls within 3 SDs. This rule is helpful for predicting where most data will fall in a normal distribution.'"
      ]
     },
     "execution_count": 17,
     "metadata": {},
     "output_type": "execute_result"
    }
   ],
   "source": [
    "\"\"\"Question 9: Normal Distribution and Empirical Rule\n",
    "The Normal Distribution is a continuous, symmetrical distribution around the mean, often visualized as a bell curve. Many natural phenomena, like heights and IQ scores, follow this distribution. The Empirical Rule states:\n",
    "\n",
    "Approximately 68% of data falls within 1 standard deviation (SD) of the mean.\n",
    "Around 95% falls within 2 SDs.\n",
    "Nearly 99.7% falls within 3 SDs. This rule is helpful for predicting where most data will fall in a normal distribution.\"\"\"\n"
   ]
  },
  {
   "cell_type": "code",
   "execution_count": 18,
   "metadata": {},
   "outputs": [
    {
     "name": "stdout",
     "output_type": "stream",
     "text": [
      "Probability of exactly 4 accidents: 0.16803135574154085\n"
     ]
    }
   ],
   "source": [
    "\"\"\"Question 10: Poisson Process\n",
    "A Poisson process models events that occur independently over time at a constant average rate. An example is the number of cars passing\n",
    "through a toll booth per hour. If the average is 3 cars per hour, we can use the Poisson distribution to find the probability of seeing exactly\n",
    "4 cars in an hour.\n",
    "\n",
    "\"\"\"\n",
    "from scipy.stats import poisson\n",
    "rate, k = 3, 4\n",
    "prob_poisson = poisson.pmf(k, rate)\n",
    "print(f\"Probability of exactly 4 accidents: {prob_poisson}\")\n"
   ]
  },
  {
   "cell_type": "code",
   "execution_count": null,
   "metadata": {},
   "outputs": [],
   "source": []
  },
  {
   "cell_type": "code",
   "execution_count": 19,
   "metadata": {},
   "outputs": [
    {
     "data": {
      "text/plain": [
       "'Question 11: Random Variables\\nA random variable is a variable whose value depends on the outcome of a random event.\\n\\nDiscrete Random Variables: Take on a countable number of distinct values, like the roll of a dice (1 through 6).\\nContinuous Random Variables: Can take any value within an interval, like the height of individuals.\\nDiscrete random variables are often used for counts, while continuous ones are suited for measurements.'"
      ]
     },
     "execution_count": 19,
     "metadata": {},
     "output_type": "execute_result"
    }
   ],
   "source": [
    "\"\"\"Question 11: Random Variables\n",
    "A random variable is a variable whose value depends on the outcome of a random event.\n",
    "\n",
    "Discrete Random Variables: Take on a countable number of distinct values, like the roll of a dice (1 through 6).\n",
    "Continuous Random Variables: Can take any value within an interval, like the height of individuals.\n",
    "Discrete random variables are often used for counts, while continuous ones are suited for measurements.\"\"\""
   ]
  },
  {
   "cell_type": "code",
   "execution_count": 20,
   "metadata": {},
   "outputs": [
    {
     "name": "stdout",
     "output_type": "stream",
     "text": [
      "Covariance: 2.0, Correlation: 1.0\n"
     ]
    }
   ],
   "source": [
    "\"\"\"Question 12: Covariance and Correlation\n",
    "Covariance and correlation measure the relationship between two variables.\n",
    "\n",
    "Covariance: Indicates the direction of the relationship between two variables. A positive covariance means they move in the same direction, while a negative value means they move in opposite directions.\n",
    "\n",
    "Correlation: A standardized form of covariance that measures both strength and direction, ranging from -1 to 1. A correlation close to 1 or -1 indicates a strong relationship, while 0 indicates no \n",
    "relationship.\"\"\"\n",
    "import pandas as pd\n",
    "data = pd.DataFrame({'X': [1, 2, 3], 'Y': [2, 4, 6]})\n",
    "covariance = data['X'].cov(data['Y'])\n",
    "correlation = data['X'].corr(data['Y'])\n",
    "print(f\"Covariance: {covariance}, Correlation: {correlation}\")\n"
   ]
  }
 ],
 "metadata": {
  "kernelspec": {
   "display_name": "Python 3",
   "language": "python",
   "name": "python3"
  },
  "language_info": {
   "codemirror_mode": {
    "name": "ipython",
    "version": 3
   },
   "file_extension": ".py",
   "mimetype": "text/x-python",
   "name": "python",
   "nbconvert_exporter": "python",
   "pygments_lexer": "ipython3",
   "version": "3.11.5"
  }
 },
 "nbformat": 4,
 "nbformat_minor": 2
}
